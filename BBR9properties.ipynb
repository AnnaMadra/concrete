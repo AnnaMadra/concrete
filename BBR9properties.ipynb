{
 "cells": [
  {
   "cell_type": "code",
   "execution_count": 1,
   "metadata": {},
   "outputs": [],
   "source": [
    "using DataFrames, CSV, PyPlot"
   ]
  },
  {
   "cell_type": "markdown",
   "metadata": {},
   "source": [
    "## Sand particles diameters\n",
    "\n",
    "Manual measurement of 135 particles from two slices of X-ray micro-CT scan of BBR9 sample 5, undamaged.\n",
    "I was not sure if the measured particles were really sand or not. I measured both the full, \"solid\" particles and porous ones -- the supposed limestone. I also measured some small particles that were angular and seemed like they may be an aggregate. I measured the largest visible diameter. Some particles were very thin, plate-like -- I measured their length."
   ]
  },
  {
   "cell_type": "code",
   "execution_count": 2,
   "metadata": {},
   "outputs": [],
   "source": [
    "sandDiameters=CSV.read(\"../data/sandDiametersBBR9.csv\");"
   ]
  },
  {
   "cell_type": "code",
   "execution_count": 3,
   "metadata": {},
   "outputs": [
    {
     "data": {
      "image/png": "[encoded data removed]",
      "text/plain": [
       "Figure(PyObject <Figure size 640x480 with 1 Axes>)"
      ]
     },
     "metadata": {},
     "output_type": "display_data"
    }
   ],
   "source": [
    "bins=[0,0.5,1,1.5,2,2.5,3,3.5,4,4.5,5]\n",
    "hist(sandDiameters[!,:Length],bins=bins, normed=true, histtype=\"stepfilled\",cumulative=true, alpha=0.35);\n",
    "axvline(x=1.5,ymin=0,ymax=0.5, linestyle=\"--\", color=\"blue\")\n",
    "axhline(y=0.5,xmin=0,xmax=0.3, linestyle=\"--\", color=\"blue\")\n",
    "text(1.55, 0.475, L\"$d_{50}=1.5$ mm\", ha=\"left\", va=\"bottom\", size=12)\n",
    "xlim(0,5)\n",
    "ylim(0,1)\n",
    "title(\"Cfd of sand particle diameters in BBR9\")\n",
    "xlabel(\"sand diameter [mm]\")\n",
    "ylabel(\"normalized frequency\")\n",
    "savefig(\"../figs/sandParticleCfd.png\", dpi=200, pad_inches=0);"
   ]
  },
  {
   "cell_type": "markdown",
   "metadata": {},
   "source": [
    "## Proportioning\n",
    "\n",
    "Based on Tab. 1 *Effect of specimen geometry on triaxial compressive response of high-strength concrete, CompBuildMat, 2020*\n",
    "\n",
    "![BBR9 composition](../data/bbr9Composition.png)"
   ]
  },
  {
   "cell_type": "markdown",
   "metadata": {},
   "source": [
    "For x g of cement, we should use:"
   ]
  },
  {
   "cell_type": "code",
   "execution_count": 25,
   "metadata": {},
   "outputs": [
    {
     "data": {
      "text/plain": [
       "props (generic function with 1 method)"
      ]
     },
     "execution_count": 25,
     "metadata": {},
     "output_type": "execute_result"
    }
   ],
   "source": [
    "function props(cem)\n",
    "    proportions=Dict(\n",
    "        \"cement\"=>1*cem,\n",
    "        \"sand\"=>2.25*cem,\n",
    "        \"slag\"=>0.6*cem,\n",
    "        \"microsilica\"=>0.26*cem,\n",
    "        \"water\"=>0.37*cem,\n",
    "        \"hrwr\"=>0.03*cem\n",
    "    )\n",
    "    return proportions\n",
    "end"
   ]
  },
  {
   "cell_type": "markdown",
   "metadata": {},
   "source": [
    "For specific gravities, we use the g/cm$^3$ density to compute equivalent weight of the specimen:"
   ]
  },
  {
   "cell_type": "code",
   "execution_count": 22,
   "metadata": {},
   "outputs": [
    {
     "data": {
      "text/plain": [
       "Dict{String,Float64} with 6 entries:\n",
       "  \"slag\"        => 2.95\n",
       "  \"microsilica\" => 2.2\n",
       "  \"water\"       => 1.0\n",
       "  \"sand\"        => 2.57\n",
       "  \"cement\"      => 3.15\n",
       "  \"hrwr\"        => 1.2"
      ]
     },
     "execution_count": 22,
     "metadata": {},
     "output_type": "execute_result"
    }
   ],
   "source": [
    "specGrav=Dict(\n",
    "        \"cement\"=>3.15,\n",
    "        \"sand\"=>2.57,\n",
    "        \"slag\"=>2.95,\n",
    "        \"microsilica\"=>2.20,\n",
    "        \"water\"=>1.00,\n",
    "        \"hrwr\"=>1.20\n",
    ")"
   ]
  },
  {
   "cell_type": "markdown",
   "metadata": {},
   "source": [
    "If we want a specimen of 25 mm diameter and 50 mm length, then we need a volume of:"
   ]
  },
  {
   "cell_type": "code",
   "execution_count": 67,
   "metadata": {},
   "outputs": [
    {
     "data": {
      "text/plain": [
       "5"
      ]
     },
     "execution_count": 67,
     "metadata": {},
     "output_type": "execute_result"
    }
   ],
   "source": [
    "diam=2.5 #cm\n",
    "len=5 #cm"
   ]
  },
  {
   "cell_type": "code",
   "execution_count": 69,
   "metadata": {},
   "outputs": [
    {
     "data": {
      "text/plain": [
       "volDims (generic function with 1 method)"
      ]
     },
     "execution_count": 69,
     "metadata": {},
     "output_type": "execute_result"
    }
   ],
   "source": [
    "function volDims(diam, len)\n",
    "    return pi*(diam/2)^2*len #cm3\n",
    "end"
   ]
  },
  {
   "cell_type": "code",
   "execution_count": 70,
   "metadata": {},
   "outputs": [
    {
     "data": {
      "text/plain": [
       "24.54369260617026"
      ]
     },
     "execution_count": 70,
     "metadata": {},
     "output_type": "execute_result"
    }
   ],
   "source": [
    "vol=volDims(diam, len)"
   ]
  },
  {
   "cell_type": "code",
   "execution_count": 26,
   "metadata": {
    "scrolled": true
   },
   "outputs": [
    {
     "data": {
      "text/plain": [
       "Dict{String,Real} with 6 entries:\n",
       "  \"slag\"        => 6.0\n",
       "  \"microsilica\" => 2.6\n",
       "  \"water\"       => 3.7\n",
       "  \"sand\"        => 22.5\n",
       "  \"cement\"      => 10\n",
       "  \"hrwr\"        => 0.3"
      ]
     },
     "execution_count": 26,
     "metadata": {},
     "output_type": "execute_result"
    }
   ],
   "source": [
    "cem=10\n",
    "proportions=props(cem)"
   ]
  },
  {
   "cell_type": "code",
   "execution_count": 28,
   "metadata": {},
   "outputs": [
    {
     "data": {
      "text/plain": [
       "45.099999999999994"
      ]
     },
     "execution_count": 28,
     "metadata": {},
     "output_type": "execute_result"
    }
   ],
   "source": [
    "sum(values(proportions)) ## in g"
   ]
  },
  {
   "cell_type": "code",
   "execution_count": 31,
   "metadata": {},
   "outputs": [
    {
     "data": {
      "text/plain": [
       "specVol (generic function with 1 method)"
      ]
     },
     "execution_count": 31,
     "metadata": {},
     "output_type": "execute_result"
    }
   ],
   "source": [
    "function specVol(proportions, specGrav)\n",
    "    return sum([proportions[k]/specGrav[k] for k in keys(proportions)])\n",
    "end"
   ]
  },
  {
   "cell_type": "code",
   "execution_count": 37,
   "metadata": {},
   "outputs": [
    {
     "data": {
      "text/plain": [
       "63-element Array{Int64,1}:\n",
       "   1\n",
       "   3\n",
       "   5\n",
       "   7\n",
       "   9\n",
       "  11\n",
       "  13\n",
       "  15\n",
       "  17\n",
       "  19\n",
       "  21\n",
       "  23\n",
       "  25\n",
       "   ⋮\n",
       " 103\n",
       " 105\n",
       " 107\n",
       " 109\n",
       " 111\n",
       " 113\n",
       " 115\n",
       " 117\n",
       " 119\n",
       " 121\n",
       " 123\n",
       " 125"
      ]
     },
     "execution_count": 37,
     "metadata": {},
     "output_type": "execute_result"
    }
   ],
   "source": [
    "collect(1:2:125)"
   ]
  },
  {
   "cell_type": "code",
   "execution_count": 54,
   "metadata": {},
   "outputs": [
    {
     "data": {
      "image/png": "[encoded data removed]",
      "text/plain": [
       "Figure(PyObject <Figure size 640x480 with 1 Axes>)"
      ]
     },
     "metadata": {},
     "output_type": "display_data"
    }
   ],
   "source": [
    "ws=1:2:125\n",
    "plot([specVol(props(w), specGrav) for w=ws],ws)\n",
    "xlabel(\"cement [g]\")\n",
    "ylabel(\"specimen volume [cm\"*L\"$^3$\"*\"]\")\n",
    "axhline(vol,linestyle=\"--\", alpha=0.5);"
   ]
  },
  {
   "cell_type": "markdown",
   "metadata": {},
   "source": [
    "The relation between cement weight and volume is linear:"
   ]
  },
  {
   "cell_type": "code",
   "execution_count": 58,
   "metadata": {},
   "outputs": [
    {
     "data": {
      "text/plain": [
       "1.9095183474735673"
      ]
     },
     "execution_count": 58,
     "metadata": {},
     "output_type": "execute_result"
    }
   ],
   "source": [
    "a=specVol(props(1), specGrav)"
   ]
  },
  {
   "cell_type": "markdown",
   "metadata": {},
   "source": [
    "## Proportioning for a given specimen volume"
   ]
  },
  {
   "cell_type": "code",
   "execution_count": 77,
   "metadata": {},
   "outputs": [
    {
     "name": "stdout",
     "output_type": "stream",
     "text": [
      "128.53342120877426 g of cement"
     ]
    }
   ],
   "source": [
    "diam=5.0 #cm\n",
    "len=12.5 #cm\n",
    "cem=volDims(diam, len)/a\n",
    "print(\"$(cem) g of cement\")"
   ]
  },
  {
   "cell_type": "code",
   "execution_count": 78,
   "metadata": {},
   "outputs": [
    {
     "data": {
      "text/plain": [
       "Dict{String,Float64} with 6 entries:\n",
       "  \"slag\"        => 77.1201\n",
       "  \"microsilica\" => 33.4187\n",
       "  \"water\"       => 47.5574\n",
       "  \"sand\"        => 289.2\n",
       "  \"cement\"      => 128.533\n",
       "  \"hrwr\"        => 3.856"
      ]
     },
     "execution_count": 78,
     "metadata": {},
     "output_type": "execute_result"
    }
   ],
   "source": [
    "props(cem)"
   ]
  },
  {
   "cell_type": "markdown",
   "metadata": {},
   "source": [
    "Weight of specimen in g"
   ]
  },
  {
   "cell_type": "code",
   "execution_count": 83,
   "metadata": {},
   "outputs": [
    {
     "data": {
      "text/plain": [
       "579.6857296515719"
      ]
     },
     "execution_count": 83,
     "metadata": {},
     "output_type": "execute_result"
    }
   ],
   "source": [
    "sum(values(props(cem)))"
   ]
  },
  {
   "cell_type": "markdown",
   "metadata": {},
   "source": [
    "Volume of specimen in cm$^3$"
   ]
  },
  {
   "cell_type": "code",
   "execution_count": 85,
   "metadata": {},
   "outputs": [
    {
     "data": {
      "text/plain": [
       "245.4369260617026"
      ]
     },
     "execution_count": 85,
     "metadata": {},
     "output_type": "execute_result"
    }
   ],
   "source": [
    "specVol(props(cem), specGrav)"
   ]
  },
  {
   "cell_type": "markdown",
   "metadata": {},
   "source": [
    "Density of obtained concrete in g/cm$^3$ (normal concrete 2.4)"
   ]
  },
  {
   "cell_type": "code",
   "execution_count": 86,
   "metadata": {},
   "outputs": [
    {
     "data": {
      "text/plain": [
       "2.3618521424353216"
      ]
     },
     "execution_count": 86,
     "metadata": {},
     "output_type": "execute_result"
    }
   ],
   "source": [
    "sum(values(props(cem)))/specVol(props(cem), specGrav)"
   ]
  }
 ],
 "metadata": {
  "kernelspec": {
   "display_name": "Julia 1.3.1",
   "language": "julia",
   "name": "julia-1.3"
  },
  "language_info": {
   "file_extension": ".jl",
   "mimetype": "application/julia",
   "name": "julia",
   "version": "1.3.1"
  }
 },
 "nbformat": 4,
 "nbformat_minor": 2
}
